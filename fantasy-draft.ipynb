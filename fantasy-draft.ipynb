{
 "cells": [
  {
   "cell_type": "code",
   "execution_count": 87,
   "metadata": {},
   "outputs": [],
   "source": [
    "muthu = {1:11, 2:9, 3:7, 4:5, 5:3, 6:1}\n",
    "curr = {1:6, 2:5, 3:4, 4:3, 5:2, 6:1}\n",
    "will = {1: 140, 2: 140, 3: 140, 4: 125, 5: 105, 6:90, 7:75, 8: 60, 9: 45, 10:30, 11: 20, 12: 15}\n",
    "naive = {1: 12, 2:11, 3:}"
   ]
  },
  {
   "cell_type": "code",
   "execution_count": 65,
   "metadata": {},
   "outputs": [],
   "source": [
    "import random\n",
    "import pandas as pd"
   ]
  },
  {
   "cell_type": "code",
   "execution_count": 66,
   "metadata": {},
   "outputs": [],
   "source": [
    "def WeightedPick(d):\n",
    "    r = random.uniform(0, sum(d.values()))\n",
    "    s = 0.0\n",
    "    for k, w in d.items():\n",
    "        s += w\n",
    "        if r < s: return k\n",
    "    return k"
   ]
  },
  {
   "cell_type": "code",
   "execution_count": 67,
   "metadata": {},
   "outputs": [],
   "source": [
    "def run_draft(weights):\n",
    "    copy = weights.copy()\n",
    "    draft = []\n",
    "    for num in range(len(weights)):\n",
    "        team = WeightedPick(copy)\n",
    "        draft.append(team)\n",
    "        copy[team] = 0\n",
    "    return draft\n"
   ]
  },
  {
   "cell_type": "code",
   "execution_count": 68,
   "metadata": {},
   "outputs": [],
   "source": [
    "def run_experiment(weights, trials):\n",
    "    results = []\n",
    "    for num in range(trials):\n",
    "        results.append(run_draft(weights))\n",
    "    return pd.DataFrame(results)"
   ]
  },
  {
   "cell_type": "code",
   "execution_count": 81,
   "metadata": {},
   "outputs": [],
   "source": [
    "def compute_dist(table, oddsPlacement, numTeams):\n",
    "    result = {x:0 for x in range(1, numTeams+1)}\n",
    "    for num in range(numTeams):\n",
    "        counts = table[num].value_counts()\n",
    "        result[num+1] += counts[oddsPlacement - ]\n",
    "    return normalize(result)\n",
    "        "
   ]
  },
  {
   "cell_type": "code",
   "execution_count": 70,
   "metadata": {},
   "outputs": [],
   "source": [
    "def normalize(d):\n",
    "    normalized = {}\n",
    "    total = sum(d.values())\n",
    "    for k,w in d.items():\n",
    "        normalized[k] = (float(w)/total)*100.0\n",
    "    return normalized\n",
    "    "
   ]
  },
  {
   "cell_type": "code",
   "execution_count": 76,
   "metadata": {},
   "outputs": [],
   "source": [
    "def run_pipeline(weights, trials, oddsRank):\n",
    "    results = run_experiment(weights, trials)\n",
    "    print(compute_dist(results, oddsRank, len(weights)))"
   ]
  },
  {
   "cell_type": "code",
   "execution_count": 92,
   "metadata": {},
   "outputs": [
    {
     "name": "stdout",
     "output_type": "stream",
     "text": [
      "{1: 1.52, 2: 1.68, 3: 2.25, 4: 2.09, 5: 2.44, 6: 2.65, 7: 3.5999999999999996, 8: 4.97, 9: 6.800000000000001, 10: 11.26, 11: 19.66, 12: 41.08}\n"
     ]
    }
   ],
   "source": [
    "run_pipeline(will, 10000, 12)"
   ]
  },
  {
   "cell_type": "code",
   "execution_count": null,
   "metadata": {},
   "outputs": [],
   "source": []
  }
 ],
 "metadata": {
  "kernelspec": {
   "display_name": "Python 3",
   "language": "python",
   "name": "python3"
  },
  "language_info": {
   "codemirror_mode": {
    "name": "ipython",
    "version": 3
   },
   "file_extension": ".py",
   "mimetype": "text/x-python",
   "name": "python",
   "nbconvert_exporter": "python",
   "pygments_lexer": "ipython3",
   "version": "3.8.5"
  }
 },
 "nbformat": 4,
 "nbformat_minor": 4
}
